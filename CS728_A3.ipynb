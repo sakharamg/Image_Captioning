{
  "cells": [
    {
      "cell_type": "code",
      "execution_count": null,
      "metadata": {
        "id": "pegNx5rFicfU"
      },
      "outputs": [],
      "source": [
        "import cv2\n",
        "import os\n",
        "import numpy as np"
      ]
    },
    {
      "cell_type": "code",
      "source": [
        "inference_type=\"coarse\""
      ],
      "metadata": {
        "id": "MSMPlLK8UqWy"
      },
      "execution_count": null,
      "outputs": []
    },
    {
      "cell_type": "code",
      "execution_count": null,
      "metadata": {
        "id": "7AtvfgTOicfa"
      },
      "outputs": [],
      "source": [
        "try:\n",
        "  from sentence_transformers import SentenceTransformer\n",
        "except:\n",
        "  !pip install sentence_transformers\n",
        "  from sentence_transformers import SentenceTransformer\n",
        "if inference_type==\"coarse\":\n",
        "  model = SentenceTransformer('all-mpnet-base-v2')\n",
        "else:\n",
        "  model= SentenceTransformer('multi-qa-mpnet-base-cos-v1')"
      ]
    },
    {
      "cell_type": "code",
      "source": [
        "with open('test.label', encoding = \"ISO-8859-1\") as f:\n",
        "  test = f.readlines()\n",
        "    \n",
        "with open('train.label', encoding = \"ISO-8859-1\") as f:\n",
        "  train = f.readlines()\n",
        "    "
      ],
      "metadata": {
        "id": "3h8a82Ck7Ga3"
      },
      "execution_count": null,
      "outputs": []
    },
    {
      "cell_type": "code",
      "source": [
        "test_sentences=[]\n",
        "test_fine_label=[]\n",
        "test_coarse_label=[]\n",
        "test_first_bigram=[]\n",
        "for sentence in test:\n",
        "  test_sentences.append(sentence[:-1].split(' ', 1)[1])\n",
        "  test_fine_label.append(sentence[:-1].split(' ', 1)[0])\n",
        "  test_coarse_label.append(test_fine_label[-1].split(':',1)[0])\n",
        "  test_first_bigram.append(' '.join([b for l in [test_sentences[-1]] for b in zip(l.split(\" \")[:-1], l.split(\" \")[1:])][0]))\n",
        "train_sentences=[]\n",
        "train_fine_label=[]\n",
        "train_coarse_label=[]\n",
        "train_first_bigram=[]\n",
        "for sentence in train:\n",
        "  train_sentences.append(sentence[:-1].split(' ', 1)[1])\n",
        "  train_fine_label.append(sentence[:-1].split(' ', 1)[0])\n",
        "  train_coarse_label.append(train_fine_label[-1].split(':',1)[0])\n",
        "  train_first_bigram.append(' '.join([b for l in [train_sentences[-1]] for b in zip(l.split(\" \")[:-1], l.split(\" \")[1:])][0]))"
      ],
      "metadata": {
        "id": "oqw0Cupb8D7u"
      },
      "execution_count": null,
      "outputs": []
    },
    {
      "cell_type": "code",
      "execution_count": null,
      "metadata": {
        "id": "DQI636bqicfe"
      },
      "outputs": [],
      "source": [
        "if inference_type==\"coarse\":\n",
        "  test_encodings = model.encode(test_sentences)\n",
        "  train_encodings = model.encode(train_sentences)\n",
        "else:\n",
        "  test_encodings = np.concatenate((model.encode(test_first_bigram), model.encode(test_sentences)), axis=1)\n",
        "  train_encodings = np.concatenate((model.encode(train_first_bigram), model.encode(train_sentences)), axis=1)\n",
        "\n",
        "# test_encodings = model.encode(test_first_bigram)\n",
        "# train_encodings = model.encode(train_first_bigram)\n",
        "\n"
      ]
    },
    {
      "cell_type": "code",
      "source": [
        "unique_coarse_label=list(set(train_coarse_label))\n",
        "unique_fine_label=list(set(train_fine_label))"
      ],
      "metadata": {
        "id": "6lqcJO6hI0S8"
      },
      "execution_count": null,
      "outputs": []
    },
    {
      "cell_type": "code",
      "source": [
        "len(unique_fine_label)"
      ],
      "metadata": {
        "colab": {
          "base_uri": "https://localhost:8080/"
        },
        "id": "JmTKTSOqmB5x",
        "outputId": "3c936074-f461-464f-d4aa-818243f5d258"
      },
      "execution_count": null,
      "outputs": [
        {
          "output_type": "execute_result",
          "data": {
            "text/plain": [
              "50"
            ]
          },
          "metadata": {},
          "execution_count": 95
        }
      ]
    },
    {
      "cell_type": "code",
      "source": [
        "train_c=np.array([unique_coarse_label.index(coarse_label) for coarse_label in train_coarse_label])\n",
        "train_f=np.array([unique_fine_label.index(fine_label) for fine_label in train_fine_label])\n",
        "test_c=np.array([unique_coarse_label.index(coarse_label) for coarse_label in test_coarse_label])\n",
        "test_f=np.array([unique_fine_label.index(fine_label) for fine_label in test_fine_label])\n"
      ],
      "metadata": {
        "id": "w40BvREZOE7F"
      },
      "execution_count": null,
      "outputs": []
    },
    {
      "cell_type": "code",
      "execution_count": null,
      "metadata": {
        "id": "CV6nWMMwicfh"
      },
      "outputs": [],
      "source": [
        "import numpy as np\n",
        "import pandas as pd\n",
        "import tensorflow as tf\n",
        "from tensorflow.keras import layers\n",
        "from numpy import loadtxt\n",
        "from tensorflow.keras.models import Sequential\n",
        "from tensorflow.keras.layers import Dense\n",
        "from tensorflow.keras.layers import Dropout\n",
        "from tensorflow.keras.layers import Flatten\n",
        "from tensorflow.keras.optimizers import Adam\n",
        "from tensorflow.keras.losses import sparse_categorical_crossentropy\n",
        "import pickle\n",
        "import math\n",
        "import torch\n",
        "from sklearn.metrics import classification_report\n",
        "from tqdm import tqdm\n",
        "import numpy as np\n",
        "import pandas as pd\n",
        "import pickle"
      ]
    },
    {
      "cell_type": "code",
      "execution_count": null,
      "metadata": {
        "id": "i99pZvTjicfi"
      },
      "outputs": [],
      "source": [
        "from tensorflow.keras.models import Model\n",
        "from tensorflow.keras.layers import Concatenate, LSTM, Input, TimeDistributed, Dense, Activation, RepeatVector, Embedding, Bidirectional\n"
      ]
    },
    {
      "cell_type": "code",
      "execution_count": null,
      "metadata": {
        "id": "ny9q4M6ticfi"
      },
      "outputs": [],
      "source": [
        "sentence_representation = Input(shape=(train_encodings.shape[1],))\n",
        "merged=Dense(train_encodings.shape[1], activation='relu')(sentence_representation)\n",
        "merged=Dense(1400, activation='relu')(merged)\n",
        "merged=Dense(1000, activation='relu')(merged)\n",
        "merged=Dense(900, activation='relu')(merged)\n",
        "merged=Dense(700, activation='relu')(merged)\n",
        "merged=Dense(500, activation='relu')(merged)\n",
        "merged=Dense(200, activation='relu')(merged)\n",
        "merged=Dense(50, activation='relu')(merged)\n",
        "# merged=Dense(20, activation='relu')(merged)\n",
        "if inference_type==\"coarse\":\n",
        "  merged=Dense(len(set(train_coarse_label)), activation='softmax')(merged)\n",
        "else:\n",
        "  merged=Dense(len(set(train_fine_label)), activation='softmax')(merged)"
      ]
    },
    {
      "cell_type": "code",
      "execution_count": null,
      "metadata": {
        "id": "urApurZUicfk",
        "outputId": "35aad9d0-be27-4a5d-d794-88844db9d911",
        "colab": {
          "base_uri": "https://localhost:8080/"
        }
      },
      "outputs": [
        {
          "output_type": "stream",
          "name": "stdout",
          "text": [
            "Model: \"model_5\"\n",
            "_________________________________________________________________\n",
            " Layer (type)                Output Shape              Param #   \n",
            "=================================================================\n",
            " input_5 (InputLayer)        [(None, 1536)]            0         \n",
            "                                                                 \n",
            " dense_36 (Dense)            (None, 1536)              2360832   \n",
            "                                                                 \n",
            " dense_37 (Dense)            (None, 1400)              2151800   \n",
            "                                                                 \n",
            " dense_38 (Dense)            (None, 1000)              1401000   \n",
            "                                                                 \n",
            " dense_39 (Dense)            (None, 900)               900900    \n",
            "                                                                 \n",
            " dense_40 (Dense)            (None, 700)               630700    \n",
            "                                                                 \n",
            " dense_41 (Dense)            (None, 500)               350500    \n",
            "                                                                 \n",
            " dense_42 (Dense)            (None, 200)               100200    \n",
            "                                                                 \n",
            " dense_43 (Dense)            (None, 50)                10050     \n",
            "                                                                 \n",
            " dense_44 (Dense)            (None, 50)                2550      \n",
            "                                                                 \n",
            " activation_5 (Activation)   (None, 50)                0         \n",
            "                                                                 \n",
            "=================================================================\n",
            "Total params: 7,908,532\n",
            "Trainable params: 7,908,532\n",
            "Non-trainable params: 0\n",
            "_________________________________________________________________\n"
          ]
        }
      ],
      "source": [
        "enc_dec_model = Model(sentence_representation, Activation('softmax')(merged))\n",
        "enc_dec_model.compile(loss=sparse_categorical_crossentropy,\n",
        "            optimizer=Adam(1e-3),\n",
        "            metrics=['accuracy'])\n",
        "enc_dec_model.summary()"
      ]
    },
    {
      "cell_type": "code",
      "execution_count": null,
      "metadata": {
        "id": "QEiO5Kozicfk"
      },
      "outputs": [],
      "source": [
        "from tensorflow.keras import backend as K\n",
        "K.set_value(enc_dec_model.optimizer.learning_rate, 1e-5)"
      ]
    },
    {
      "cell_type": "code",
      "execution_count": null,
      "metadata": {
        "id": "PPA7vbP8icfl",
        "outputId": "dbe6e2c6-a50a-45ef-c0ec-9afb5c498a72",
        "colab": {
          "base_uri": "https://localhost:8080/"
        }
      },
      "outputs": [
        {
          "output_type": "stream",
          "name": "stdout",
          "text": [
            "Epoch 1/97\n",
            "17/17 [==============================] - 0s 14ms/step - loss: 3.5002 - accuracy: 0.4450 - val_loss: 3.5213 - val_accuracy: 0.4267\n",
            "Epoch 2/97\n",
            "17/17 [==============================] - 0s 11ms/step - loss: 3.5000 - accuracy: 0.4454 - val_loss: 3.5207 - val_accuracy: 0.4249\n",
            "Epoch 3/97\n",
            "17/17 [==============================] - 0s 9ms/step - loss: 3.4997 - accuracy: 0.4456 - val_loss: 3.5205 - val_accuracy: 0.4286\n",
            "Epoch 4/97\n",
            "17/17 [==============================] - 0s 9ms/step - loss: 3.4994 - accuracy: 0.4456 - val_loss: 3.5202 - val_accuracy: 0.4267\n",
            "Epoch 5/97\n",
            "17/17 [==============================] - 0s 8ms/step - loss: 3.4993 - accuracy: 0.4456 - val_loss: 3.5205 - val_accuracy: 0.4267\n",
            "Epoch 6/97\n",
            "17/17 [==============================] - 0s 9ms/step - loss: 3.4991 - accuracy: 0.4456 - val_loss: 3.5198 - val_accuracy: 0.4286\n",
            "Epoch 7/97\n",
            "17/17 [==============================] - 0s 9ms/step - loss: 3.4991 - accuracy: 0.4456 - val_loss: 3.5197 - val_accuracy: 0.4286\n",
            "Epoch 8/97\n",
            "17/17 [==============================] - 0s 8ms/step - loss: 3.4988 - accuracy: 0.4458 - val_loss: 3.5206 - val_accuracy: 0.4249\n",
            "Epoch 9/97\n",
            "17/17 [==============================] - 0s 9ms/step - loss: 3.4987 - accuracy: 0.4460 - val_loss: 3.5198 - val_accuracy: 0.4304\n",
            "Epoch 10/97\n",
            "17/17 [==============================] - 0s 8ms/step - loss: 3.4986 - accuracy: 0.4460 - val_loss: 3.5197 - val_accuracy: 0.4304\n",
            "Epoch 11/97\n",
            "17/17 [==============================] - 0s 8ms/step - loss: 3.4985 - accuracy: 0.4462 - val_loss: 3.5195 - val_accuracy: 0.4286\n",
            "Epoch 12/97\n",
            "17/17 [==============================] - 0s 8ms/step - loss: 3.4984 - accuracy: 0.4462 - val_loss: 3.5193 - val_accuracy: 0.4286\n",
            "Epoch 13/97\n",
            "17/17 [==============================] - 0s 8ms/step - loss: 3.4983 - accuracy: 0.4462 - val_loss: 3.5193 - val_accuracy: 0.4304\n",
            "Epoch 14/97\n",
            "17/17 [==============================] - 0s 8ms/step - loss: 3.4982 - accuracy: 0.4462 - val_loss: 3.5193 - val_accuracy: 0.4286\n",
            "Epoch 15/97\n",
            "17/17 [==============================] - 0s 8ms/step - loss: 3.4981 - accuracy: 0.4462 - val_loss: 3.5188 - val_accuracy: 0.4304\n",
            "Epoch 16/97\n",
            "17/17 [==============================] - 0s 9ms/step - loss: 3.4980 - accuracy: 0.4462 - val_loss: 3.5187 - val_accuracy: 0.4304\n",
            "Epoch 17/97\n",
            "17/17 [==============================] - 0s 8ms/step - loss: 3.4979 - accuracy: 0.4462 - val_loss: 3.5194 - val_accuracy: 0.4304\n",
            "Epoch 18/97\n",
            "17/17 [==============================] - 0s 9ms/step - loss: 3.4978 - accuracy: 0.4466 - val_loss: 3.5192 - val_accuracy: 0.4322\n",
            "Epoch 19/97\n",
            "17/17 [==============================] - 0s 8ms/step - loss: 3.4976 - accuracy: 0.4466 - val_loss: 3.5190 - val_accuracy: 0.4286\n",
            "Epoch 20/97\n",
            "17/17 [==============================] - 0s 9ms/step - loss: 3.4976 - accuracy: 0.4466 - val_loss: 3.5194 - val_accuracy: 0.4286\n",
            "Epoch 21/97\n",
            "17/17 [==============================] - 0s 8ms/step - loss: 3.4975 - accuracy: 0.4466 - val_loss: 3.5186 - val_accuracy: 0.4286\n",
            "Epoch 22/97\n",
            "17/17 [==============================] - 0s 8ms/step - loss: 3.4975 - accuracy: 0.4466 - val_loss: 3.5188 - val_accuracy: 0.4322\n",
            "Epoch 23/97\n",
            "17/17 [==============================] - 0s 8ms/step - loss: 3.4975 - accuracy: 0.4466 - val_loss: 3.5184 - val_accuracy: 0.4304\n",
            "Epoch 24/97\n",
            "17/17 [==============================] - 0s 8ms/step - loss: 3.4974 - accuracy: 0.4466 - val_loss: 3.5185 - val_accuracy: 0.4322\n",
            "Epoch 25/97\n",
            "17/17 [==============================] - 0s 8ms/step - loss: 3.4974 - accuracy: 0.4466 - val_loss: 3.5184 - val_accuracy: 0.4322\n",
            "Epoch 26/97\n",
            "17/17 [==============================] - 0s 8ms/step - loss: 3.4974 - accuracy: 0.4466 - val_loss: 3.5183 - val_accuracy: 0.4322\n",
            "Epoch 27/97\n",
            "17/17 [==============================] - 0s 8ms/step - loss: 3.4973 - accuracy: 0.4466 - val_loss: 3.5182 - val_accuracy: 0.4322\n",
            "Epoch 28/97\n",
            "17/17 [==============================] - 0s 9ms/step - loss: 3.4973 - accuracy: 0.4466 - val_loss: 3.5182 - val_accuracy: 0.4322\n",
            "Epoch 29/97\n",
            "17/17 [==============================] - 0s 9ms/step - loss: 3.4973 - accuracy: 0.4466 - val_loss: 3.5179 - val_accuracy: 0.4322\n",
            "Epoch 30/97\n",
            "17/17 [==============================] - 0s 8ms/step - loss: 3.4973 - accuracy: 0.4466 - val_loss: 3.5179 - val_accuracy: 0.4322\n",
            "Epoch 31/97\n",
            "17/17 [==============================] - 0s 8ms/step - loss: 3.4972 - accuracy: 0.4466 - val_loss: 3.5179 - val_accuracy: 0.4322\n",
            "Epoch 32/97\n",
            "17/17 [==============================] - 0s 8ms/step - loss: 3.4972 - accuracy: 0.4466 - val_loss: 3.5177 - val_accuracy: 0.4322\n",
            "Epoch 33/97\n",
            "17/17 [==============================] - 0s 8ms/step - loss: 3.4972 - accuracy: 0.4466 - val_loss: 3.5176 - val_accuracy: 0.4322\n",
            "Epoch 34/97\n",
            "17/17 [==============================] - 0s 8ms/step - loss: 3.4972 - accuracy: 0.4466 - val_loss: 3.5176 - val_accuracy: 0.4322\n",
            "Epoch 35/97\n",
            "17/17 [==============================] - 0s 8ms/step - loss: 3.4971 - accuracy: 0.4466 - val_loss: 3.5174 - val_accuracy: 0.4322\n",
            "Epoch 36/97\n",
            "17/17 [==============================] - 0s 9ms/step - loss: 3.4971 - accuracy: 0.4466 - val_loss: 3.5174 - val_accuracy: 0.4322\n",
            "Epoch 37/97\n",
            "17/17 [==============================] - 0s 8ms/step - loss: 3.4971 - accuracy: 0.4466 - val_loss: 3.5172 - val_accuracy: 0.4322\n",
            "Epoch 38/97\n",
            "17/17 [==============================] - 0s 8ms/step - loss: 3.4971 - accuracy: 0.4466 - val_loss: 3.5173 - val_accuracy: 0.4322\n",
            "Epoch 39/97\n",
            "17/17 [==============================] - 0s 8ms/step - loss: 3.4971 - accuracy: 0.4466 - val_loss: 3.5172 - val_accuracy: 0.4322\n",
            "Epoch 40/97\n",
            "17/17 [==============================] - 0s 8ms/step - loss: 3.4970 - accuracy: 0.4466 - val_loss: 3.5169 - val_accuracy: 0.4322\n",
            "Epoch 41/97\n",
            "17/17 [==============================] - 0s 8ms/step - loss: 3.4970 - accuracy: 0.4466 - val_loss: 3.5169 - val_accuracy: 0.4322\n",
            "Epoch 42/97\n",
            "17/17 [==============================] - 0s 8ms/step - loss: 3.4970 - accuracy: 0.4466 - val_loss: 3.5171 - val_accuracy: 0.4322\n",
            "Epoch 43/97\n",
            "17/17 [==============================] - 0s 9ms/step - loss: 3.4970 - accuracy: 0.4466 - val_loss: 3.5167 - val_accuracy: 0.4322\n",
            "Epoch 44/97\n",
            "17/17 [==============================] - 0s 8ms/step - loss: 3.4970 - accuracy: 0.4466 - val_loss: 3.5168 - val_accuracy: 0.4322\n",
            "Epoch 45/97\n",
            "17/17 [==============================] - 0s 8ms/step - loss: 3.4970 - accuracy: 0.4466 - val_loss: 3.5167 - val_accuracy: 0.4322\n",
            "Epoch 46/97\n",
            "17/17 [==============================] - 0s 8ms/step - loss: 3.4969 - accuracy: 0.4466 - val_loss: 3.5167 - val_accuracy: 0.4322\n",
            "Epoch 47/97\n",
            "17/17 [==============================] - 0s 9ms/step - loss: 3.4969 - accuracy: 0.4466 - val_loss: 3.5167 - val_accuracy: 0.4322\n",
            "Epoch 48/97\n",
            "17/17 [==============================] - 0s 8ms/step - loss: 3.4969 - accuracy: 0.4466 - val_loss: 3.5166 - val_accuracy: 0.4322\n",
            "Epoch 49/97\n",
            "17/17 [==============================] - 0s 8ms/step - loss: 3.4969 - accuracy: 0.4466 - val_loss: 3.5165 - val_accuracy: 0.4322\n",
            "Epoch 50/97\n",
            "17/17 [==============================] - 0s 9ms/step - loss: 3.4969 - accuracy: 0.4466 - val_loss: 3.5164 - val_accuracy: 0.4322\n",
            "Epoch 51/97\n",
            "17/17 [==============================] - 0s 9ms/step - loss: 3.4969 - accuracy: 0.4466 - val_loss: 3.5165 - val_accuracy: 0.4322\n",
            "Epoch 52/97\n",
            "17/17 [==============================] - 0s 9ms/step - loss: 3.4968 - accuracy: 0.4466 - val_loss: 3.5163 - val_accuracy: 0.4322\n",
            "Epoch 53/97\n",
            "17/17 [==============================] - 0s 9ms/step - loss: 3.4968 - accuracy: 0.4466 - val_loss: 3.5163 - val_accuracy: 0.4322\n",
            "Epoch 54/97\n",
            "17/17 [==============================] - 0s 8ms/step - loss: 3.4968 - accuracy: 0.4466 - val_loss: 3.5161 - val_accuracy: 0.4322\n",
            "Epoch 55/97\n",
            "17/17 [==============================] - 0s 8ms/step - loss: 3.4968 - accuracy: 0.4466 - val_loss: 3.5160 - val_accuracy: 0.4322\n",
            "Epoch 56/97\n",
            "17/17 [==============================] - 0s 9ms/step - loss: 3.4968 - accuracy: 0.4466 - val_loss: 3.5162 - val_accuracy: 0.4322\n",
            "Epoch 57/97\n",
            "17/17 [==============================] - 0s 9ms/step - loss: 3.4968 - accuracy: 0.4466 - val_loss: 3.5160 - val_accuracy: 0.4322\n",
            "Epoch 58/97\n",
            "17/17 [==============================] - 0s 8ms/step - loss: 3.4967 - accuracy: 0.4466 - val_loss: 3.5161 - val_accuracy: 0.4322\n",
            "Epoch 59/97\n",
            "17/17 [==============================] - 0s 8ms/step - loss: 3.4967 - accuracy: 0.4466 - val_loss: 3.5161 - val_accuracy: 0.4322\n",
            "Epoch 60/97\n",
            "17/17 [==============================] - 0s 8ms/step - loss: 3.4967 - accuracy: 0.4466 - val_loss: 3.5161 - val_accuracy: 0.4322\n",
            "Epoch 61/97\n",
            "17/17 [==============================] - 0s 8ms/step - loss: 3.4966 - accuracy: 0.4466 - val_loss: 3.5160 - val_accuracy: 0.4322\n",
            "Epoch 62/97\n",
            "17/17 [==============================] - 0s 8ms/step - loss: 3.4966 - accuracy: 0.4468 - val_loss: 3.5159 - val_accuracy: 0.4322\n",
            "Epoch 63/97\n",
            "17/17 [==============================] - 0s 9ms/step - loss: 3.4965 - accuracy: 0.4468 - val_loss: 3.5159 - val_accuracy: 0.4322\n",
            "Epoch 64/97\n",
            "17/17 [==============================] - 0s 8ms/step - loss: 3.4965 - accuracy: 0.4468 - val_loss: 3.5157 - val_accuracy: 0.4322\n",
            "Epoch 65/97\n",
            "17/17 [==============================] - 0s 8ms/step - loss: 3.4965 - accuracy: 0.4468 - val_loss: 3.5159 - val_accuracy: 0.4304\n",
            "Epoch 66/97\n",
            "17/17 [==============================] - 0s 8ms/step - loss: 3.4965 - accuracy: 0.4468 - val_loss: 3.5158 - val_accuracy: 0.4322\n",
            "Epoch 67/97\n",
            "17/17 [==============================] - 0s 9ms/step - loss: 3.4964 - accuracy: 0.4468 - val_loss: 3.5159 - val_accuracy: 0.4322\n",
            "Epoch 68/97\n",
            "17/17 [==============================] - 0s 8ms/step - loss: 3.4964 - accuracy: 0.4468 - val_loss: 3.5156 - val_accuracy: 0.4322\n",
            "Epoch 69/97\n",
            "17/17 [==============================] - 0s 8ms/step - loss: 3.4964 - accuracy: 0.4468 - val_loss: 3.5157 - val_accuracy: 0.4304\n",
            "Epoch 70/97\n",
            "17/17 [==============================] - 0s 9ms/step - loss: 3.4964 - accuracy: 0.4468 - val_loss: 3.5155 - val_accuracy: 0.4322\n",
            "Epoch 71/97\n",
            "17/17 [==============================] - 0s 9ms/step - loss: 3.4964 - accuracy: 0.4468 - val_loss: 3.5155 - val_accuracy: 0.4322\n",
            "Epoch 72/97\n",
            "17/17 [==============================] - 0s 8ms/step - loss: 3.4964 - accuracy: 0.4468 - val_loss: 3.5155 - val_accuracy: 0.4322\n",
            "Epoch 73/97\n",
            "17/17 [==============================] - 0s 8ms/step - loss: 3.4964 - accuracy: 0.4468 - val_loss: 3.5155 - val_accuracy: 0.4322\n",
            "Epoch 74/97\n",
            "17/17 [==============================] - 0s 9ms/step - loss: 3.4963 - accuracy: 0.4468 - val_loss: 3.5155 - val_accuracy: 0.4322\n",
            "Epoch 75/97\n",
            "17/17 [==============================] - 0s 8ms/step - loss: 3.4963 - accuracy: 0.4468 - val_loss: 3.5154 - val_accuracy: 0.4322\n",
            "Epoch 76/97\n",
            "17/17 [==============================] - 0s 8ms/step - loss: 3.4963 - accuracy: 0.4468 - val_loss: 3.5154 - val_accuracy: 0.4322\n",
            "Epoch 77/97\n",
            "17/17 [==============================] - 0s 9ms/step - loss: 3.4963 - accuracy: 0.4468 - val_loss: 3.5153 - val_accuracy: 0.4322\n",
            "Epoch 78/97\n",
            "17/17 [==============================] - 0s 8ms/step - loss: 3.4963 - accuracy: 0.4468 - val_loss: 3.5156 - val_accuracy: 0.4304\n",
            "Epoch 79/97\n",
            "17/17 [==============================] - 0s 9ms/step - loss: 3.4963 - accuracy: 0.4468 - val_loss: 3.5152 - val_accuracy: 0.4322\n",
            "Epoch 80/97\n",
            "17/17 [==============================] - 0s 9ms/step - loss: 3.4963 - accuracy: 0.4468 - val_loss: 3.5152 - val_accuracy: 0.4322\n",
            "Epoch 81/97\n",
            "17/17 [==============================] - 0s 8ms/step - loss: 3.4963 - accuracy: 0.4468 - val_loss: 3.5152 - val_accuracy: 0.4304\n",
            "Epoch 82/97\n",
            "17/17 [==============================] - 0s 8ms/step - loss: 3.4962 - accuracy: 0.4468 - val_loss: 3.5153 - val_accuracy: 0.4304\n",
            "Epoch 83/97\n",
            "17/17 [==============================] - 0s 8ms/step - loss: 3.4962 - accuracy: 0.4468 - val_loss: 3.5151 - val_accuracy: 0.4304\n",
            "Epoch 84/97\n",
            "17/17 [==============================] - 0s 9ms/step - loss: 3.4962 - accuracy: 0.4468 - val_loss: 3.5154 - val_accuracy: 0.4304\n",
            "Epoch 85/97\n",
            "17/17 [==============================] - 0s 8ms/step - loss: 3.4962 - accuracy: 0.4468 - val_loss: 3.5149 - val_accuracy: 0.4322\n",
            "Epoch 86/97\n",
            "17/17 [==============================] - 0s 8ms/step - loss: 3.4962 - accuracy: 0.4468 - val_loss: 3.5153 - val_accuracy: 0.4304\n",
            "Epoch 87/97\n",
            "17/17 [==============================] - 0s 8ms/step - loss: 3.4962 - accuracy: 0.4468 - val_loss: 3.5153 - val_accuracy: 0.4304\n",
            "Epoch 88/97\n",
            "17/17 [==============================] - 0s 8ms/step - loss: 3.4962 - accuracy: 0.4468 - val_loss: 3.5150 - val_accuracy: 0.4304\n",
            "Epoch 89/97\n",
            "17/17 [==============================] - 0s 8ms/step - loss: 3.4962 - accuracy: 0.4468 - val_loss: 3.5151 - val_accuracy: 0.4304\n",
            "Epoch 90/97\n",
            "17/17 [==============================] - 0s 8ms/step - loss: 3.4961 - accuracy: 0.4468 - val_loss: 3.5150 - val_accuracy: 0.4304\n",
            "Epoch 91/97\n",
            "17/17 [==============================] - 0s 9ms/step - loss: 3.4961 - accuracy: 0.4468 - val_loss: 3.5152 - val_accuracy: 0.4304\n",
            "Epoch 92/97\n",
            "17/17 [==============================] - 0s 8ms/step - loss: 3.4961 - accuracy: 0.4468 - val_loss: 3.5151 - val_accuracy: 0.4304\n",
            "Epoch 93/97\n",
            "17/17 [==============================] - 0s 8ms/step - loss: 3.4961 - accuracy: 0.4468 - val_loss: 3.5148 - val_accuracy: 0.4304\n",
            "Epoch 94/97\n",
            "17/17 [==============================] - 0s 9ms/step - loss: 3.4961 - accuracy: 0.4468 - val_loss: 3.5149 - val_accuracy: 0.4304\n",
            "Epoch 95/97\n",
            "17/17 [==============================] - 0s 8ms/step - loss: 3.4961 - accuracy: 0.4468 - val_loss: 3.5148 - val_accuracy: 0.4304\n",
            "Epoch 96/97\n",
            "17/17 [==============================] - 0s 9ms/step - loss: 3.4961 - accuracy: 0.4468 - val_loss: 3.5146 - val_accuracy: 0.4322\n",
            "Epoch 97/97\n",
            "17/17 [==============================] - 0s 9ms/step - loss: 3.4961 - accuracy: 0.4468 - val_loss: 3.5148 - val_accuracy: 0.4304\n"
          ]
        }
      ],
      "source": [
        "if inference_type==\"coarse\":\n",
        "  history = enc_dec_model.fit(train_encodings,train_c, batch_size=300, epochs=197,validation_split = 0.1)\n",
        "else:\n",
        "  history = enc_dec_model.fit(train_encodings,train_f, batch_size=300, epochs=197,validation_split = 0.1)"
      ]
    },
    {
      "cell_type": "code",
      "execution_count": null,
      "metadata": {
        "id": "0OFNAPRsicfm",
        "outputId": "a64dfeb9-0bc6-4c43-9dbd-350c2862c03a",
        "colab": {
          "base_uri": "https://localhost:8080/",
          "height": 590
        }
      },
      "outputs": [
        {
          "output_type": "stream",
          "name": "stdout",
          "text": [
            "dict_keys(['loss', 'accuracy', 'val_loss', 'val_accuracy'])\n"
          ]
        },
        {
          "output_type": "display_data",
          "data": {
            "text/plain": [
              "<Figure size 432x288 with 1 Axes>"
            ],
            "image/png": "[encoded data removed]"
          },
          "metadata": {
            "needs_background": "light"
          }
        },
        {
          "output_type": "display_data",
          "data": {
            "text/plain": [
              "<Figure size 432x288 with 1 Axes>"
            ],
            "image/png": "[encoded data removed]"
          },
          "metadata": {
            "needs_background": "light"
          }
        }
      ],
      "source": [
        "import matplotlib.pyplot as plt\n",
        "# list all data in history\n",
        "print(history.history.keys())\n",
        "# summarize history for accuracy\n",
        "plt.plot(history.history['accuracy'])\n",
        "plt.plot(history.history['val_accuracy'])\n",
        "plt.title('model accuracy')\n",
        "plt.ylabel('accuracy')\n",
        "plt.xlabel('epoch')\n",
        "plt.legend(['train', 'test'], loc='upper left')\n",
        "plt.show()\n",
        "# summarize history for loss\n",
        "plt.plot(history.history['loss'])\n",
        "plt.plot(history.history['val_loss'])\n",
        "plt.title('model loss')\n",
        "plt.ylabel('loss')\n",
        "plt.xlabel('epoch')\n",
        "plt.legend(['train', 'test'], loc='upper left')\n",
        "plt.show()"
      ]
    },
    {
      "cell_type": "code",
      "execution_count": null,
      "metadata": {
        "id": "QgeWd1O3icfm"
      },
      "outputs": [],
      "source": [
        "enc_dec_model.save('/content/drive1/MyDrive/cs728a3/ati_c_92.h5')\n"
      ]
    },
    {
      "cell_type": "code",
      "source": [
        "enc_dec_model=tf.keras.models.load_model('/content/drive1/MyDrive/cs728a3/ati_f_52.h5')"
      ],
      "metadata": {
        "id": "xoDuvmA_6IQ6"
      },
      "execution_count": null,
      "outputs": []
    },
    {
      "cell_type": "code",
      "source": [
        "from google.colab import drive\n",
        "drive.mount('/content/drive1')"
      ],
      "metadata": {
        "colab": {
          "base_uri": "https://localhost:8080/"
        },
        "id": "DNOYrmotSbDm",
        "outputId": "17f18d5c-91ba-4e3b-dc5c-d31203620a7b"
      },
      "execution_count": null,
      "outputs": [
        {
          "output_type": "stream",
          "name": "stdout",
          "text": [
            "Mounted at /content/drive1\n"
          ]
        }
      ]
    },
    {
      "cell_type": "code",
      "execution_count": null,
      "metadata": {
        "id": "jgkbx62ricfm",
        "colab": {
          "base_uri": "https://localhost:8080/"
        },
        "outputId": "f71a5ed9-7ccc-43ed-9d6b-e732dbfdc9b0"
      },
      "outputs": [
        {
          "output_type": "stream",
          "name": "stdout",
          "text": [
            "16/16 [==============================] - 0s 3ms/step - loss: 3.4237 - accuracy: 0.5220\n",
            "Test loss: 3.423675537109375\n",
            "Test accuracy: 0.5220000147819519\n"
          ]
        }
      ],
      "source": [
        "score, acc = enc_dec_model.evaluate(test_encodings, test_f)\n",
        "print('Test loss:', score)\n",
        "print('Test accuracy:', acc)"
      ]
    },
    {
      "cell_type": "markdown",
      "metadata": {
        "id": "3z_HgRr4icfq"
      },
      "source": [
        "# Testing"
      ]
    },
    {
      "cell_type": "code",
      "execution_count": null,
      "metadata": {
        "id": "20uKHeV5icfs"
      },
      "outputs": [],
      "source": [
        "test_prediction=enc_dec_model.predict(test_encodings)"
      ]
    },
    {
      "cell_type": "code",
      "source": [
        "y_hat=[unique_coarse_label[id] for id in np.argmax(test_prediction,axis=1)]"
      ],
      "metadata": {
        "id": "yK8SL0-GUAN5"
      },
      "execution_count": null,
      "outputs": []
    },
    {
      "cell_type": "code",
      "source": [
        "x=test_sentences"
      ],
      "metadata": {
        "id": "94WpgEcH5PCZ"
      },
      "execution_count": null,
      "outputs": []
    },
    {
      "cell_type": "code",
      "execution_count": null,
      "metadata": {
        "id": "Q1iTh0-micft"
      },
      "outputs": [],
      "source": [
        "import pandas as pd  \n",
        "  \n",
        "\n",
        "# dictionary of lists  \n",
        "dict = {'Question': x,\"Answer Type Coarse Grained\":y_hat}  \n",
        "       \n",
        "df_out = pd.DataFrame(dict) \n",
        "    \n",
        "# saving the dataframe \n",
        "df_out.to_csv('coarse_grained_ATI.csv') "
      ]
    }
  ],
  "metadata": {
    "interpreter": {
      "hash": "a6f9c909a0a5673feaff7d0d273e84ff56438b1a2d4e1b3aff561acaa5aab149"
    },
    "kernelspec": {
      "display_name": "Python 3.6.13 ('openie6': conda)",
      "language": "python",
      "name": "python3"
    },
    "language_info": {
      "codemirror_mode": {
        "name": "ipython",
        "version": 3
      },
      "file_extension": ".py",
      "mimetype": "text/x-python",
      "name": "python",
      "nbconvert_exporter": "python",
      "pygments_lexer": "ipython3",
      "version": "3.6.13"
    },
    "orig_nbformat": 4,
    "colab": {
      "name": "CS728_A3.ipynb",
      "provenance": [],
      "collapsed_sections": [
        "EuDozn6oo3Ds"
      ]
    },
    "accelerator": "GPU"
  },
  "nbformat": 4,
  "nbformat_minor": 0
}